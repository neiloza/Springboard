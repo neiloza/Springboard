{
 "cells": [
  {
   "cell_type": "markdown",
   "metadata": {},
   "source": [
    "# Examining Racial Discrimination in the US Job Market\n",
    "\n",
    "### Background\n",
    "Racial discrimination continues to be pervasive in cultures throughout the world. Researchers examined the level of racial discrimination in the United States labor market by randomly assigning identical résumés to black-sounding or white-sounding names and observing the impact on requests for interviews from employers.\n",
    "\n",
    "### Data\n",
    "In the dataset provided, each row represents a resume. The 'race' column has two values, 'b' and 'w', indicating black-sounding and white-sounding. The column 'call' has two values, 1 and 0, indicating whether the resume received a call from employers or not.\n",
    "\n",
    "Note that the 'b' and 'w' values in race are assigned randomly to the resumes when presented to the employer."
   ]
  },
  {
   "cell_type": "markdown",
   "metadata": {},
   "source": [
    "### Exercises\n",
    "You will perform a statistical analysis to establish whether race has a significant impact on the rate of callbacks for resumes.\n",
    "\n",
    "Answer the following questions **in this notebook below and submit to your Github account**. \n",
    "\n",
    "   1. What test is appropriate for this problem? Does CLT apply?\n",
    "   2. What are the null and alternate hypotheses?\n",
    "   3. Compute margin of error, confidence interval, and p-value. Try using both the bootstrapping and the frequentist statistical approaches.\n",
    "   4. Write a story describing the statistical significance in the context or the original problem.\n",
    "   5. Does your analysis mean that race/name is the most important factor in callback success? Why or why not? If not, how would you amend your analysis?\n",
    "\n",
    "You can include written notes in notebook cells using Markdown: \n",
    "   - In the control panel at the top, choose Cell > Cell Type > Markdown\n",
    "   - Markdown syntax: http://nestacms.com/docs/creating-content/markdown-cheat-sheet\n",
    "\n",
    "#### Resources\n",
    "+ Experiment information and data source: http://www.povertyactionlab.org/evaluation/discrimination-job-market-united-states\n",
    "+ Scipy statistical methods: http://docs.scipy.org/doc/scipy/reference/stats.html \n",
    "+ Markdown syntax: http://nestacms.com/docs/creating-content/markdown-cheat-sheet\n",
    "+ Formulas for the Bernoulli distribution: https://en.wikipedia.org/wiki/Bernoulli_distribution"
   ]
  },
  {
   "cell_type": "code",
   "execution_count": 2,
   "metadata": {},
   "outputs": [],
   "source": [
    "import pandas as pd\n",
    "import numpy as np\n",
    "from scipy import stats"
   ]
  },
  {
   "cell_type": "code",
   "execution_count": 3,
   "metadata": {},
   "outputs": [],
   "source": [
    "data = pd.io.stata.read_stata('data/us_job_market_discrimination.dta')"
   ]
  },
  {
   "cell_type": "code",
   "execution_count": 4,
   "metadata": {},
   "outputs": [
    {
     "data": {
      "text/plain": [
       "235.0"
      ]
     },
     "execution_count": 4,
     "metadata": {},
     "output_type": "execute_result"
    }
   ],
   "source": [
    "# number of callbacks for black-sounding names\n",
    "sum(data[data.race=='w'].call)"
   ]
  },
  {
   "cell_type": "code",
   "execution_count": 13,
   "metadata": {},
   "outputs": [
    {
     "data": {
      "text/plain": [
       "2       0.0\n",
       "3       0.0\n",
       "7       0.0\n",
       "8       0.0\n",
       "9       0.0\n",
       "10      0.0\n",
       "12      0.0\n",
       "14      0.0\n",
       "17      0.0\n",
       "19      0.0\n",
       "20      0.0\n",
       "25      0.0\n",
       "26      0.0\n",
       "28      0.0\n",
       "29      0.0\n",
       "31      0.0\n",
       "33      0.0\n",
       "36      0.0\n",
       "37      0.0\n",
       "38      0.0\n",
       "41      0.0\n",
       "44      0.0\n",
       "45      0.0\n",
       "47      0.0\n",
       "49      0.0\n",
       "50      0.0\n",
       "53      0.0\n",
       "55      0.0\n",
       "57      0.0\n",
       "59      0.0\n",
       "       ... \n",
       "4808    0.0\n",
       "4812    0.0\n",
       "4815    0.0\n",
       "4818    0.0\n",
       "4820    0.0\n",
       "4821    0.0\n",
       "4823    0.0\n",
       "4825    0.0\n",
       "4827    0.0\n",
       "4828    0.0\n",
       "4832    0.0\n",
       "4833    0.0\n",
       "4835    0.0\n",
       "4837    0.0\n",
       "4840    0.0\n",
       "4841    0.0\n",
       "4842    0.0\n",
       "4844    0.0\n",
       "4848    1.0\n",
       "4849    0.0\n",
       "4850    0.0\n",
       "4853    0.0\n",
       "4856    0.0\n",
       "4857    0.0\n",
       "4858    0.0\n",
       "4859    1.0\n",
       "4864    0.0\n",
       "4865    0.0\n",
       "4866    0.0\n",
       "4868    0.0\n",
       "Name: call, Length: 2435, dtype: float32"
      ]
     },
     "execution_count": 13,
     "metadata": {},
     "output_type": "execute_result"
    }
   ],
   "source": [
    "disc_data=data[['call','race']]\n",
    "black=disc_data[disc_data.race=='b']\n",
    "white=disc_data[disc_data.race=='w']\n"
   ]
  },
  {
   "cell_type": "markdown",
   "metadata": {},
   "source": [
    "Q1\n",
    "\n",
    "In this analysis, we will detrmine if discrimination exists with regards to hiring practices. our dataset contains applications made by individuals with white or black sounding names, and contains data on whether those individuals received a call back from the employer. Our dataset has over 4000 entries, and the total population of job applications is well over 10 million. the samples were also independent, so we can safely use the Central Limit Theorem in our analysis. As for which test is best for this data, I beleive a 2-proportion test would serve us best, since we are dealing with two sets of binomial variables"
   ]
  },
  {
   "cell_type": "markdown",
   "metadata": {
    "collapsed": true
   },
   "source": [
    "<div class=\"span5 alert alert-success\">\n",
    "<p>Your answers to Q1 and Q2 here</p>\n",
    "</div>"
   ]
  },
  {
   "cell_type": "code",
   "execution_count": 16,
   "metadata": {},
   "outputs": [],
   "source": [
    "\n"
   ]
  },
  {
   "cell_type": "markdown",
   "metadata": {
    "collapsed": true
   },
   "source": [
    "Q2\n",
    "\n",
    "The null hypothesis is that black and white names get identical response rates, while the alternative is that black and white names have different response rates.\n",
    "\n",
    "H_0: mu_b=mu_w\n",
    "H_a: mu_b!=mu_w"
   ]
  },
  {
   "cell_type": "code",
   "execution_count": 37,
   "metadata": {
    "scrolled": true
   },
   "outputs": [
    {
     "name": "stdout",
     "output_type": "stream",
     "text": [
      "0.015281912310894095\n",
      "[0.01675094189855149, 0.04731476652033968]\n",
      "4.108412152434346\n",
      "3.983886837585077e-05\n"
     ]
    }
   ],
   "source": [
    "n_w=len(white)\n",
    "n_b=len(black)\n",
    "prop_w=sum(white)/n_w\n",
    "prop_b=sum(black)/n_b\n",
    "prop_b\n",
    "prop_total=(sum(white)+sum(black))/(n_w+n_b)\n",
    "se=np.sqrt(prop_total*(1-prop_total)*(1/float(n_b)+1/float(n_w)))\n",
    "se\n",
    "margin_of_error=se*1.96\n",
    "conf_interval=[prop_w-prop_b-margin_of_error, prop_w-prop_b+margin_of_error]\n",
    "z_score=(prop_w-prop_b)/se\n",
    "p_value=stats.norm.sf(abs(z_score))*2\n"
   ]
  },
  {
   "cell_type": "code",
   "execution_count": 39,
   "metadata": {},
   "outputs": [
    {
     "name": "stdout",
     "output_type": "stream",
     "text": [
      "0.015281912310894095\n",
      "[0.01675094189855149, 0.04731476652033968]\n",
      "4.108412152434346\n",
      "3.983886837585077e-05\n"
     ]
    }
   ],
   "source": [
    "#Q3\n",
    "\n",
    "print(margin_of_error)\n",
    "print(conf_interval)\n",
    "print(z_score)\n",
    "print(p_value)"
   ]
  },
  {
   "cell_type": "markdown",
   "metadata": {
    "collapsed": true
   },
   "source": [
    "Q4\n",
    "\n",
    "After conducting a hypothesis test, we see that there is a significant difference between the response rate for black vs white sounding names. more specifically, white names seem to get called back more around 1-4 percent of the time. The p-value is very small, which suggests that the name's race does play a significant factor in affecting job acceptance."
   ]
  },
  {
   "cell_type": "markdown",
   "metadata": {},
   "source": [
    "Q5\n",
    "\n",
    "Although race does seem to play a factor with regards to likelihood of receiving second interviews, it may not be the only factor or even the most important factor when getting a callback for a job application. Qualifications, grammar, location of applicant, gender, etc. may play a more significant role in application success. Additional research may be warranted to discover what other factors also influence success in job hunting.\n"
   ]
  },
  {
   "cell_type": "code",
   "execution_count": null,
   "metadata": {},
   "outputs": [],
   "source": []
  }
 ],
 "metadata": {
  "kernelspec": {
   "display_name": "Python 3",
   "language": "python",
   "name": "python3"
  },
  "language_info": {
   "codemirror_mode": {
    "name": "ipython",
    "version": 3
   },
   "file_extension": ".py",
   "mimetype": "text/x-python",
   "name": "python",
   "nbconvert_exporter": "python",
   "pygments_lexer": "ipython3",
   "version": "3.7.1"
  }
 },
 "nbformat": 4,
 "nbformat_minor": 1
}
