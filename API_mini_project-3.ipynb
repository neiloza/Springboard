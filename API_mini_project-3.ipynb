{
 "cells": [
  {
   "cell_type": "code",
   "execution_count": 85,
   "metadata": {},
   "outputs": [],
   "source": [
    "import requests\n",
    "import json\n",
    "r=requests.get('https://www.quandl.com/api/v3/datasets/FSE/AFX_X.json?api_key=INSERT_KEY_HERE')\n",
    "json_data=json.loads(r.text)\n",
    "col_names=json_data['dataset']['column_names']\n"
   ]
  },
  {
   "cell_type": "code",
   "execution_count": 84,
   "metadata": {},
   "outputs": [],
   "source": [
    "AFX_X_data=json_data['dataset']['data']\n"
   ]
  },
  {
   "cell_type": "code",
   "execution_count": 53,
   "metadata": {},
   "outputs": [
    {
     "name": "stdout",
     "output_type": "stream",
     "text": [
      "53.11\n",
      "4.2\n",
      "2001-09-06\n",
      "2017-12-14\n"
     ]
    }
   ],
   "source": [
    "#Question 3: Min and Max values\n",
    "minimum=10000\n",
    "maximum=0\n",
    "min_loc=''\n",
    "max_loc=''\n",
    "\n",
    "for item in AFX_X_data:\n",
    "    if item[1] is not None:\n",
    "        if minimum> item[1]:\n",
    "            minimum=item[1]\n",
    "            min_loc=item[0]\n",
    "        if maximum<item[1]:\n",
    "            maximum=item[1]\n",
    "            max_loc=item[0]\n",
    "print(maximum)\n",
    "print(minimum)\n",
    "print(min_loc)\n",
    "print(max_loc)"
   ]
  },
  {
   "cell_type": "code",
   "execution_count": 59,
   "metadata": {},
   "outputs": [
    {
     "name": "stdout",
     "output_type": "stream",
     "text": [
      "7.700000000000003\n",
      "2018-12-04\n",
      "70.7\n",
      "63.0\n"
     ]
    }
   ],
   "source": [
    "#Q4: Max difference\n",
    "max_dif=0\n",
    "max_dif_date=''\n",
    "\n",
    "for item in AFX_X_data:\n",
    "    if item[2]is not None:\n",
    "        if item[3] is not None:\n",
    "            if item[2]-item[3]>max_dif:\n",
    "                max_dif=item[2]-item[3]\n",
    "                max_dif_date=item[0]\n",
    "                \n",
    "                \n",
    "print(max_dif)\n",
    "print(max_dif_date)\n"
   ]
  },
  {
   "cell_type": "code",
   "execution_count": 67,
   "metadata": {},
   "outputs": [
    {
     "name": "stdout",
     "output_type": "stream",
     "text": [
      "7.0\n",
      "2000-06-09\n"
     ]
    }
   ],
   "source": [
    "#Q5 Biggest change between two consecutive trading days\n",
    "data_size=len(AFX_X_data)\n",
    "max_change=0\n",
    "date_of_change=''\n",
    "for num in range(data_size-1):\n",
    "    if AFX_X_data[num][4] is not None:\n",
    "        if AFX_X_data[num+1][4] is not None:\n",
    "            if AFX_X_data[num+1][4]-AFX_X_data[num][4]>max_change:\n",
    "                max_change=AFX_X_data[num+1][4]-AFX_X_data[num][4]\n",
    "                date_of_change=AFX_X_data[num][0]\n",
    "            if AFX_X_data[num][4]-AFX_X_data[num+1][4]:\n",
    "                max_change=AFX_X_data[num][4]-AFX_X_data[num+1][4]\n",
    "                date_of_change=AFX_X_data[num][0]\n",
    "print(max_change)\n",
    "print(date_of_change)"
   ]
  },
  {
   "cell_type": "code",
   "execution_count": 72,
   "metadata": {},
   "outputs": [
    {
     "name": "stdout",
     "output_type": "stream",
     "text": [
      "49661.93811621565\n"
     ]
    }
   ],
   "source": [
    "#Q6 total volume\n",
    "count=0\n",
    "total_volume=0\n",
    "for item in AFX_X_data:\n",
    "    if item[6] is not None:\n",
    "        total_volume=total_volume+item[6]\n",
    "        count=count+1\n",
    "print(total_volume/count)\n"
   ]
  },
  {
   "cell_type": "code",
   "execution_count": 83,
   "metadata": {},
   "outputs": [
    {
     "data": {
      "text/plain": [
       "37313.0"
      ]
     },
     "execution_count": 83,
     "metadata": {},
     "output_type": "execute_result"
    }
   ],
   "source": [
    "#Q7 median volume\n",
    "median_vol_list=[]\n",
    "count_v2=0\n",
    "for item in AFX_X_data:\n",
    "    if item[6] is not None:\n",
    "        median_vol_list.append(item[6])\n",
    "        count_v2=count_v2+1\n",
    "median_vol_list=sorted(median_vol_list)\n",
    "count_v2\n",
    "median=0\n",
    "if count_v2%2==0:\n",
    "    median=(median_vol_list[int(count_v2/2)]+median_vol_list[int(count_v2/2-1)])/2\n",
    "else:\n",
    "    median=median_vol_list[int((count_v2-1)/2)]\n",
    "median\n"
   ]
  },
  {
   "cell_type": "code",
   "execution_count": null,
   "metadata": {},
   "outputs": [],
   "source": []
  }
 ],
 "metadata": {
  "kernelspec": {
   "display_name": "Python 3",
   "language": "python",
   "name": "python3"
  },
  "language_info": {
   "codemirror_mode": {
    "name": "ipython",
    "version": 3
   },
   "file_extension": ".py",
   "mimetype": "text/x-python",
   "name": "python",
   "nbconvert_exporter": "python",
   "pygments_lexer": "ipython3",
   "version": "3.7.1"
  }
 },
 "nbformat": 4,
 "nbformat_minor": 2
}
